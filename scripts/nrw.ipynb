{
 "cells": [
  {
   "cell_type": "code",
   "execution_count": 1,
   "metadata": {},
   "outputs": [],
   "source": [
    "\"\"\"Simulation of infections for different scenarios.\"\"\"\n",
    "import os\n",
    "import covid19sim.coronalib as cl\n",
    "import pandas as pd \n",
    "import numpy as np\n",
    "import plotly.express as px\n",
    "import datetime\n",
    "import plotly.graph_objects as go\n",
    "from plotly.offline import plot\n",
    "from plotly.subplots import make_subplots"
   ]
  },
  {
   "cell_type": "markdown",
   "metadata": {},
   "source": [
    "Covid-19 Sim provides two populations:<br>\n",
    "\"current\" : The population is based on the current population (2019) <br>\n",
    "\"household\" : The population is bases on a subsample in 2010 but with household numbers and additional persons per household"
   ]
  },
  {
   "cell_type": "code",
   "execution_count": 2,
   "metadata": {},
   "outputs": [],
   "source": [
    "age, agegroup, gender, contacts, drate, hnr, persons = cl.makepop(\"household\",17900000)"
   ]
  },
  {
   "cell_type": "code",
   "execution_count": 3,
   "metadata": {},
   "outputs": [],
   "source": [
    "# Einlesen der realisierten Daten\n",
    "nrw = pd.read_excel(\"./nrw_dat.xlsx\")\n",
    "nrw[\"Datum\"] = nrw[\"Datum\"].dt.date\n",
    "nrw[\"Meldedatum\"] = nrw[\"Meldedatum\"].dt.date"
   ]
  },
  {
   "cell_type": "markdown",
   "metadata": {},
   "source": [
    "# Szenarien mit Community Attack\n",
    "\n",
    "## Basis Szenario NRW mit Community Attack\n",
    "\n",
    "Die gesamte Repdouktionsetzt sich zusammen aus Infektionen innerhalb der Haushalte und Kontakt alle Haushaltsmitglieder mit der Aussenwelt. \n",
    "r_change ist hier jeweils der Kontaktwert mit der Aussenwelt\n",
    "\n",
    "Die Kontakte sind proportional zur den Kontaktraten der Altersgruppen ohne Beschränkung."
   ]
  },
  {
   "cell_type": "code",
   "execution_count": null,
   "metadata": {},
   "outputs": [],
   "source": [
    "day0date = datetime.date(2020, 3, 8)\n",
    "r_change = {}\n",
    "r_change['2020-01-01'] = 3 * contacts/np.mean(contacts)\n",
    "contacts_new = np.where(age < 20, contacts, contacts)\n",
    "r_change['2020-03-08'] = 1.0 * contacts/np.mean(contacts)\n",
    "r_change['2020-03-16'] = 0.3 * contacts/np.mean(contacts)\n",
    "r_change['2020-03-23'] = 0.2 * contacts/np.mean(contacts)\n",
    "com_attack_rate = {}\n",
    "com_attack_rate[\"2020-01-1\"] = 0.5\n",
    "com_attack_rate[\"2020-05-4\"] = 0.5\n",
    "\n",
    "state, statesum, infections, day0, rnow, args, gr = cl.sim(\n",
    "        age, drate, nday=180, prob_icu=0.009, day0cumrep=450,\n",
    "        mean_days_to_icu=16, mean_duration_icu=14,\n",
    "        mean_time_to_death=21,\n",
    "        mean_serial=7.5, std_serial=3.0, immunt0=0.0, ifr=0.003,\n",
    "        long_term_death=False, hnr=hnr, com_attack_rate=com_attack_rate,\n",
    "        r_change=r_change, simname=\"NRW Basis\",\n",
    "        datadir=\".\",\n",
    "        realized=nrw, rep_delay=13, alpha=0.125, day0date=day0date)\n",
    "\n",
    "cl.plotoverview(gr, args)"
   ]
  },
  {
   "cell_type": "code",
   "execution_count": null,
   "metadata": {},
   "outputs": [],
   "source": [
    "persgroup = np.where(persons>5,\">5\",persons)\n",
    "cl.groupresults({\"Personen\":persgroup},state)"
   ]
  },
  {
   "cell_type": "markdown",
   "metadata": {},
   "source": [
    "Der Anteil der Infizierten steigt deutlich mit der Haushaltsgröße. \n",
    "Dieses Bild sollte qualitativ recht realistisch sein. \n",
    "\n",
    "Es bestehen deutliche Hinweise, dass die Community Attack Rate 50% oder höher ist. "
   ]
  },
  {
   "cell_type": "code",
   "execution_count": null,
   "metadata": {},
   "outputs": [],
   "source": [
    "aux = cl.groupresults({\"Alter\":agegroup},state)\n",
    "# Die CFR aus der IFR über die Dunkelziffer berechnen\n",
    "aux[\"CFR\"] = aux.IFR / args[\"alpha\"]\n",
    "display(aux)"
   ]
  },
  {
   "cell_type": "code",
   "execution_count": null,
   "metadata": {},
   "outputs": [],
   "source": [
    "## Öffnung von Kitas"
   ]
  },
  {
   "cell_type": "code",
   "execution_count": null,
   "metadata": {},
   "outputs": [],
   "source": [
    "day0date = datetime.date(2020, 3, 8)\n",
    "r_change = {}\n",
    "r_change['2020-01-01'] = 3 * contacts/np.mean(contacts)\n",
    "contacts_new = np.where(age < 20, contacts, contacts)\n",
    "r_change['2020-03-08'] = 1.0 * contacts/np.mean(contacts)\n",
    "r_change['2020-03-16'] = 0.3 * contacts/np.mean(contacts)\n",
    "r_change['2020-03-23'] = 0.2 * contacts/np.mean(contacts)\n",
    "r_change['2020-04-20'] = 0.5 * contacts/np.mean(contacts)\n",
    "r_change['2020-05-04'] = np.where(age<6,5*r_change['2020-04-20'],r_change['2020-04-20'])\n",
    "com_attack_rate = {}\n",
    "com_attack_rate[\"2020-01-1\"] = 0.5\n",
    "com_attack_rate[\"2020-05-4\"] = 0.5\n",
    "\n",
    "state, statesum, infections, day0, rnow, args, gr = cl.sim(\n",
    "        age, drate, nday=180, prob_icu=0.009, day0cumrep=450,\n",
    "        mean_days_to_icu=16, mean_duration_icu=14,\n",
    "        mean_time_to_death=21,\n",
    "        mean_serial=7.5, std_serial=3.0, immunt0=0.0, ifr=0.003,\n",
    "        long_term_death=False, hnr=hnr, com_attack_rate=com_attack_rate,\n",
    "        r_change=r_change, simname=\"NRW Basis\",\n",
    "        datadir=\".\",\n",
    "        realized=nrw, rep_delay=13, alpha=0.125, day0date=day0date)\n",
    "\n",
    "cl.plotoverview(gr, args)"
   ]
  },
  {
   "cell_type": "markdown",
   "metadata": {},
   "source": [
    "Der Anteil der Infizierten ist hier in den jungen Altersgruppen höher. Für die Meldefälle könnte man eine Annahme treffen, dass die Wahrscheinlichkeit einer \"Meldung\" ebenfalls proportional zur statistischen Sterbewahrscheinlichkeit ist. \n",
    "\n",
    "Die CFR ist hier einfach als \"Dunkeziffer\" * IFR berechnet. Der Alterstrend sieht plausibel aus."
   ]
  },
  {
   "cell_type": "markdown",
   "metadata": {},
   "source": [
    "## Lockerung in allen Bereichen ausser bei den über 60 Jährigen"
   ]
  },
  {
   "cell_type": "code",
   "execution_count": null,
   "metadata": {},
   "outputs": [],
   "source": [
    "day0date = datetime.date(2020, 3, 8)\n",
    "r_change = {}\n",
    "r_change['2020-01-01'] = 3 * contacts/np.mean(contacts)\n",
    "contacts_new = np.where(age < 20, contacts, contacts)\n",
    "r_change['2020-03-08'] = 1.0 * contacts/np.mean(contacts)\n",
    "r_change['2020-03-16'] = 0.3 * contacts/np.mean(contacts)\n",
    "r_change['2020-03-23'] = 0.2 * contacts/np.mean(contacts)\n",
    "r_change['2020-05-04'] = 0.2 * np.where(age < 60, 3*contacts, contacts)/np.mean(contacts)\n",
    "\n",
    "com_attack_rate = {}\n",
    "com_attack_rate[\"2020-01-1\"] = 0.5\n",
    "com_attack_rate[\"2020-05-4\"] = 0.5\n",
    "state, statesum, infections, day0, rnow, args, gr = cl.sim(\n",
    "        age, drate, nday=180, prob_icu=0.009, day0cumrep=450,\n",
    "        mean_days_to_icu=16, mean_duration_icu=14,\n",
    "        mean_time_to_death=21,\n",
    "        mean_serial=7.5, std_serial=3.0, immunt0=0.0, ifr=0.003,\n",
    "        long_term_death=False, hnr=hnr, com_attack_rate=com_attack_rate,\n",
    "        r_change=r_change, simname=\"Lockerung U60\",\n",
    "        datadir=\".\",\n",
    "        realized=nrw, rep_delay=13, alpha=0.125, day0date=day0date)\n",
    "\n",
    "cl.plotoverview(gr, args)"
   ]
  },
  {
   "cell_type": "markdown",
   "metadata": {},
   "source": [
    "Das effektive R steigt zwar leicht über 1 aber die Intesivbelastung ist weiter fallend, da die Maßnahmen für die ältere Bevölkerung weiter wirken. Es könnte jedoch sein, dass diese Annahme zu opimistisch ist."
   ]
  },
  {
   "cell_type": "code",
   "execution_count": null,
   "metadata": {},
   "outputs": [],
   "source": [
    "# Lockerung in allen Bereichen "
   ]
  },
  {
   "cell_type": "code",
   "execution_count": null,
   "metadata": {},
   "outputs": [],
   "source": [
    "day0date = datetime.date(2020, 3, 8)\n",
    "r_change = {}\n",
    "r_change['2020-01-01'] = 3 * contacts/np.mean(contacts)\n",
    "contacts_new = np.where(age < 20, contacts, contacts)\n",
    "r_change['2020-03-08'] = 1.0 * contacts/np.mean(contacts)\n",
    "r_change['2020-03-16'] = 0.3 * contacts/np.mean(contacts)\n",
    "r_change['2020-03-23'] = 0.2 * contacts/np.mean(contacts)\n",
    "r_change['2020-05-04'] = 0.6 * contacts/np.mean(contacts)\n",
    "\n",
    "com_attack_rate = {}\n",
    "com_attack_rate[\"2020-01-1\"] = 0.5\n",
    "com_attack_rate[\"2020-05-4\"] = 0.5\n",
    "state, statesum, infections, day0, rnow, args, gr = cl.sim(\n",
    "        age, drate, nday=180, prob_icu=0.009, day0cumrep=450,\n",
    "        mean_days_to_icu=16, mean_duration_icu=14,\n",
    "        mean_time_to_death=21,\n",
    "        mean_serial=7.5, std_serial=3.0, immunt0=0.0, ifr=0.003,\n",
    "        long_term_death=False, hnr=hnr, com_attack_rate=com_attack_rate,\n",
    "        r_change=r_change, simname=\"Lockerung Alle\",\n",
    "        datadir=\".\",\n",
    "        realized=nrw, rep_delay=13, alpha=0.125, day0date=day0date)\n",
    "\n",
    "cl.plotoverview(gr, args)"
   ]
  },
  {
   "cell_type": "markdown",
   "metadata": {},
   "source": [
    "Das effektive R ist ebenfalls leicht über 1, aber die Anzahl der ICU-Fälle steigt wieder stetig an. "
   ]
  },
  {
   "cell_type": "markdown",
   "metadata": {},
   "source": [
    "## Starke Lockerung aber Reduzierung der Community Attack Rate durch frühe Tests und Quarantäne"
   ]
  },
  {
   "cell_type": "code",
   "execution_count": null,
   "metadata": {},
   "outputs": [],
   "source": [
    "day0date = datetime.date(2020, 3, 8)\n",
    "r_change = {}\n",
    "r_change['2020-01-01'] = 3 * contacts/np.mean(contacts)\n",
    "contacts_new = np.where(age < 20, contacts, contacts)\n",
    "r_change['2020-03-08'] = 1.0 * contacts/np.mean(contacts)\n",
    "r_change['2020-03-16'] = 0.3 * contacts/np.mean(contacts)\n",
    "r_change['2020-03-23'] = 0.2 * contacts/np.mean(contacts)\n",
    "r_change['2020-05-04'] = 1.0 * contacts/np.mean(contacts)\n",
    "\n",
    "com_attack_rate = {}\n",
    "com_attack_rate[\"2020-01-1\"] = 0.5\n",
    "com_attack_rate[\"2020-05-4\"] = 0.25\n",
    "state, statesum, infections, day0, rnow, args, gr = cl.sim(\n",
    "        age, drate, nday=180, prob_icu=0.009, day0cumrep=450,\n",
    "        mean_days_to_icu=16, mean_duration_icu=14,\n",
    "        mean_time_to_death=21,\n",
    "        mean_serial=7.5, std_serial=3.0, immunt0=0.0, ifr=0.003,\n",
    "        long_term_death=False, hnr=hnr, com_attack_rate=com_attack_rate,\n",
    "        r_change=r_change, simname=\"Lockerung Alle kleinere CAR\",\n",
    "        datadir=\".\",\n",
    "        realized=nrw, rep_delay=13, alpha=0.125, day0date=day0date)\n",
    "\n",
    "cl.plotoverview(gr, args)"
   ]
  },
  {
   "cell_type": "markdown",
   "metadata": {},
   "source": [
    "## Test der Community Attack Rate"
   ]
  },
  {
   "cell_type": "code",
   "execution_count": null,
   "metadata": {},
   "outputs": [],
   "source": [
    "day0date = datetime.date(2020, 3, 8)\n",
    "r_change = {}\n",
    "r_change['2020-01-01'] = 3 * contacts/np.mean(contacts)\n",
    "contacts_new = np.where(age < 20, contacts, contacts)\n",
    "r_change['2020-03-08'] = 1.0 * contacts/np.mean(contacts)\n",
    "r_change['2020-03-16'] = 0.3 * contacts/np.mean(contacts)\n",
    "r_change['2020-03-23'] = 0.2 * contacts/np.mean(contacts)\n",
    "r_change['2020-05-04'] = 0.2 * contacts/np.mean(contacts)\n",
    "\n",
    "com_attack_rate = {}\n",
    "com_attack_rate[\"2020-01-1\"] = 0.5\n",
    "com_attack_rate[\"2020-05-4\"] = 0.1\n",
    "state, statesum, infections, day0, rnow, args, gr = cl.sim(\n",
    "        age, drate, nday=180, prob_icu=0.009, day0cumrep=450,\n",
    "        mean_days_to_icu=16, mean_duration_icu=14,\n",
    "        mean_time_to_death=21,\n",
    "        mean_serial=7.5, std_serial=3.0, immunt0=0.0, ifr=0.003,\n",
    "        long_term_death=False, hnr=hnr, com_attack_rate=com_attack_rate,\n",
    "        r_change=r_change, simname=\"Test Community Attack\",\n",
    "        datadir=\".\",\n",
    "        realized=nrw, rep_delay=13, alpha=0.125, day0date=day0date)\n",
    "\n",
    "cl.plotoverview(gr, args)"
   ]
  },
  {
   "cell_type": "markdown",
   "metadata": {},
   "source": [
    "# Szenarien ohne Community Attack\n",
    "## Basisszenario NRW"
   ]
  },
  {
   "cell_type": "code",
   "execution_count": null,
   "metadata": {},
   "outputs": [],
   "source": [
    "age, agegroup, gender, contacts, drate, hnr, persons = cl.makepop(\"current\",17900000)"
   ]
  },
  {
   "cell_type": "code",
   "execution_count": null,
   "metadata": {},
   "outputs": [],
   "source": [
    "day0date = datetime.date(2020, 3, 8)\n",
    "r_change = {}\n",
    "r_change['2020-01-01'] = 4.0 * contacts/np.mean(contacts)\n",
    "r_change['2020-03-08'] = 0.24*8 * contacts/np.mean(contacts)\n",
    "r_change['2020-03-16'] = 0.15*8 * contacts/np.mean(contacts)\n",
    "r_change['2020-03-23'] = 0.10*6 * contacts/np.mean(contacts)\n",
    "r_change['2020-05-04'] = 0.6 * contacts/np.mean(contacts)\n",
    "\n",
    "com_attack_rate = {}\n",
    "com_attack_rate[\"2020-01-1\"] = 0.0\n",
    "state, statesum, infections, day0, rnow, args, gr = cl.sim(\n",
    "        age, drate, nday=180, prob_icu=0.009, day0cumrep=450,\n",
    "        mean_days_to_icu=16, mean_duration_icu=14,\n",
    "        mean_time_to_death=21,\n",
    "        mean_serial=7.5, std_serial=3.0, immunt0=0.0, ifr=0.003,\n",
    "        long_term_death=False, hnr=None, com_attack_rate=com_attack_rate,\n",
    "        r_change=r_change, simname=\"Basis NRW ohne Community Attack\",\n",
    "        datadir=\".\",\n",
    "        realized=nrw, rep_delay=13, alpha=0.125, day0date=day0date)\n",
    "\n",
    "cl.plotoverview(gr, args)"
   ]
  },
  {
   "cell_type": "code",
   "execution_count": null,
   "metadata": {},
   "outputs": [],
   "source": [
    "import pkg_resources\n",
    "pkg_resources.get_distribution(\"covid19sim\").version"
   ]
  },
  {
   "cell_type": "code",
   "execution_count": null,
   "metadata": {},
   "outputs": [],
   "source": [
    "cl.plotoverview(gr, args)"
   ]
  },
  {
   "cell_type": "code",
   "execution_count": null,
   "metadata": {},
   "outputs": [],
   "source": [
    "    gr[\"Wochentag\"] = [x.weekday() for x in gr.Datum]\n",
    "    gr[\"WE\"] = np.where(gr.Wochentag > 4, \"WE\", \"WT\")\n",
    "    fig = make_subplots(rows=2, cols=2)\n",
    "\n",
    "    fig.add_trace(go.Scatter(x=gr[\"Datum\"], y=gr[\"Erwartete Neu-Meldefälle\"],\n",
    "                             mode=\"lines\", name=\"Erwartete Neu-Meldefälle\"),\n",
    "                  row=1, col=1)\n",
    "    fig.add_trace(go.Scatter(x=gr[gr.WE == \"WE\"][\"Datum\"],\n",
    "                             y=gr[gr.WE == \"WE\"][\"RKI Neu-Meldefälle\"],\n",
    "                             name=\"RKI Neu-Meldefälle (WE)\",\n",
    "                             mode=\"markers\"), row=1, col=1)\n",
    "    fig.add_trace(go.Scatter(x=gr[gr.WE == \"WT\"][\"Datum\"],\n",
    "                             y=gr[gr.WE == \"WT\"][\"RKI Neu-Meldefälle\"],\n",
    "                             name=\"RKI Neu-Meldefälle (WT)\",\n",
    "                             mode=\"markers\"), row=1, col=1)\n",
    "\n",
    "    fig.add_trace(go.Scatter(x=gr[\"Datum\"], y=gr[\"Erwartete Gesamt-Meldefälle\"],\n",
    "                             name=\"Erwartete Gesamt-Meldefälle\",\n",
    "                             mode=\"lines\"), row=2, col=1)\n",
    "    fig.add_trace(go.Scatter(x=gr[\"Datum\"], y=gr[\"RKI Gesamt-Meldefälle\"],\n",
    "                             name=\"RKI Gesamt-Meldefälle\",\n",
    "                             mode=\"lines\"), row=2, col=1)\n",
    "\n",
    "    fig.add_trace(go.Scatter(x=gr[\"Datum\"], y=gr[\"Erwartete Tote\"],\n",
    "                             name=\"Erwartete Tote\",\n",
    "                             mode=\"lines\"), row=1, col=2)\n",
    "    fig.add_trace(go.Scatter(x=gr[\"Datum\"], y=gr[\"IST Tote gesamt\"],\n",
    "                             name=\"Ist Tote gesamt\",\n",
    "                             mode=\"lines\"), row=1, col=2)\n",
    "\n",
    "    fig.add_trace(go.Scatter(x=gr[\"Datum\"], y=gr[\"ICU\"],\n",
    "                             name=\"Erwartete Intensiv\",\n",
    "                             mode=\"lines\"), row=2, col=2)\n",
    "    fig.add_trace(go.Scatter(x=gr[\"Datum\"], y=gr[\"Ist Intensiv\"],\n",
    "                             name=\"IST Intensiv\",\n",
    "                             mode=\"lines\"), row=2, col=2)\n",
    "\n",
    "    fig.update_layout(legend_orientation=\"h\", title=args[\"simname\"])\n",
    "\n",
    "    plot(fig, filename=os.path.join(args[\"datadir\"], args[\"simname\"] +\n",
    "                                    \"_overview.html\"),\n",
    "         auto_open=False, auto_play=False)\n",
    "    fig.show()\n",
    "\n",
    "    fig = make_subplots(rows=1, cols=1)\n",
    "    fig.add_trace(go.Scatter(x=gr[\"Datum\"], y=gr[\"Reproduktionszahl\"],\n",
    "                             name=\"R effektiv\",\n",
    "                             mode=\"lines\"), row=1, col=1)\n",
    "    fig.add_trace(go.Scatter(x=gr[\"Datum\"], y=gr[\"R extern\"],\n",
    "                             name=\"R extern\",\n",
    "                             mode=\"lines\"), row=1, col=1)\n",
    "\n",
    "    plot(fig, filename=os.path.join(args[\"datadir\"], args[\"simname\"] +\n",
    "                                    \"_reproduction.html\"),\n",
    "         auto_open=False, auto_play=False)\n",
    "    plot(fig)"
   ]
  },
  {
   "cell_type": "code",
   "execution_count": null,
   "metadata": {},
   "outputs": [],
   "source": [
    "day0date = datetime.date(2020, 3, 8)\n",
    "r_change = {}\n",
    "r_change['2020-01-01'] = 4.0 * contacts/np.mean(contacts)\n",
    "r_change['2020-03-08'] = 0.24*8 * contacts/np.mean(contacts)\n",
    "r_change['2020-03-16'] = 0.15*8 * contacts/np.mean(contacts)\n",
    "r_change['2020-03-23'] = 0.9 * contacts/np.mean(contacts)\n",
    "r_change['2020-05-04'] = 0.9 * contacts/np.mean(contacts)\n",
    "\n",
    "com_attack_rate = {}\n",
    "com_attack_rate[\"2020-01-1\"] = 0.0\n",
    "state, statesum, infections, day0, rnow, args, gr = cl.sim(\n",
    "        age, drate, nday=180, prob_icu=0.009, day0cumrep=450,\n",
    "        mean_days_to_icu=16, mean_duration_icu=14,\n",
    "        mean_time_to_death=21,\n",
    "        mean_serial=7.5, std_serial=3.0, immunt0=0.0, ifr=0.003,\n",
    "        long_term_death=False, hnr=None, com_attack_rate=com_attack_rate,\n",
    "        r_change=r_change, simname=\"Basis NRW ohne Community Attack\",\n",
    "        datadir=\".\",\n",
    "        realized=nrw, rep_delay=13, alpha=0.125, day0date=day0date)\n",
    "\n",
    "cl.plotoverview(gr, args)"
   ]
  },
  {
   "cell_type": "code",
   "execution_count": null,
   "metadata": {},
   "outputs": [],
   "source": []
  }
 ],
 "metadata": {
  "kernelspec": {
   "display_name": "Python 3",
   "language": "python",
   "name": "python3"
  },
  "language_info": {
   "codemirror_mode": {
    "name": "ipython",
    "version": 3
   },
   "file_extension": ".py",
   "mimetype": "text/x-python",
   "name": "python",
   "nbconvert_exporter": "python",
   "pygments_lexer": "ipython3",
   "version": "3.7.7"
  }
 },
 "nbformat": 4,
 "nbformat_minor": 4
}
