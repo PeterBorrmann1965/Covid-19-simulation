{
 "cells": [
  {
   "cell_type": "code",
   "execution_count": 1,
   "metadata": {},
   "outputs": [],
   "source": [
    "\"\"\"Simulation of infections for different scenarios.\"\"\"\n",
    "import covid19sim.coronalib as cl\n",
    "import pandas as pd\n",
    "import numpy as np\n",
    "import os\n",
    "import datetime\n",
    "import plotly.express as px\n",
    "import plotly.graph_objects as go\n",
    "from plotly.offline import plot\n",
    "from plotly.subplots import make_subplots\n",
    "import plotly.io as pio\n"
   ]
  },
  {
   "cell_type": "markdown",
   "metadata": {},
   "source": [
    "Covid-19 Sim provides two populations:<br>\n",
    "\"current\" : The population is based on the current population (2019) <br>\n",
    "\"household\" : The population is bases on a subsample in 2010 but with household numbers and additional persons per household"
   ]
  },
  {
   "cell_type": "code",
   "execution_count": 2,
   "metadata": {},
   "outputs": [
    {
     "name": "stdout",
     "output_type": "stream",
     "text": [
      "Simulation time: 123.14643001556396\n"
     ]
    },
    {
     "data": {
      "text/html": [
       "<div>\n",
       "<style scoped>\n",
       "    .dataframe tbody tr th:only-of-type {\n",
       "        vertical-align: middle;\n",
       "    }\n",
       "\n",
       "    .dataframe tbody tr th {\n",
       "        vertical-align: top;\n",
       "    }\n",
       "\n",
       "    .dataframe thead th {\n",
       "        text-align: right;\n",
       "    }\n",
       "</style>\n",
       "<table border=\"1\" class=\"dataframe\">\n",
       "  <thead>\n",
       "    <tr style=\"text-align: right;\">\n",
       "      <th></th>\n",
       "      <th>index</th>\n",
       "      <th>Peaktag</th>\n",
       "      <th>Peakwert</th>\n",
       "      <th>Peakwert %</th>\n",
       "      <th>Endwert</th>\n",
       "      <th>Endwert %</th>\n",
       "    </tr>\n",
       "  </thead>\n",
       "  <tbody>\n",
       "    <tr>\n",
       "      <th>0</th>\n",
       "      <td>nicht infiziert</td>\n",
       "      <td>-43</td>\n",
       "      <td>17899980</td>\n",
       "      <td>100.000%</td>\n",
       "      <td>17277063</td>\n",
       "      <td>96.520%</td>\n",
       "    </tr>\n",
       "    <tr>\n",
       "      <th>1</th>\n",
       "      <td>immun</td>\n",
       "      <td>106</td>\n",
       "      <td>415424</td>\n",
       "      <td>2.321%</td>\n",
       "      <td>415424</td>\n",
       "      <td>2.321%</td>\n",
       "    </tr>\n",
       "    <tr>\n",
       "      <th>2</th>\n",
       "      <td>infiziert</td>\n",
       "      <td>106</td>\n",
       "      <td>205675</td>\n",
       "      <td>1.149%</td>\n",
       "      <td>205675</td>\n",
       "      <td>1.149%</td>\n",
       "    </tr>\n",
       "    <tr>\n",
       "      <th>3</th>\n",
       "      <td>ICU</td>\n",
       "      <td>104</td>\n",
       "      <td>505</td>\n",
       "      <td>0.003%</td>\n",
       "      <td>490</td>\n",
       "      <td>0.003%</td>\n",
       "    </tr>\n",
       "    <tr>\n",
       "      <th>4</th>\n",
       "      <td>tod (Covid-19)</td>\n",
       "      <td>106</td>\n",
       "      <td>1348</td>\n",
       "      <td>0.008%</td>\n",
       "      <td>1348</td>\n",
       "      <td>0.008%</td>\n",
       "    </tr>\n",
       "  </tbody>\n",
       "</table>\n",
       "</div>"
      ],
      "text/plain": [
       "             index  Peaktag  Peakwert Peakwert %   Endwert Endwert %\n",
       "0  nicht infiziert      -43  17899980   100.000%  17277063   96.520%\n",
       "1            immun      106    415424     2.321%    415424    2.321%\n",
       "2        infiziert      106    205675     1.149%    205675    1.149%\n",
       "3              ICU      104       505     0.003%       490    0.003%\n",
       "4   tod (Covid-19)      106      1348     0.008%      1348    0.008%"
      ]
     },
     "metadata": {},
     "output_type": "display_data"
    }
   ],
   "source": [
    "# make a population\n",
    "age, agegroup, gender, contacts, drate, hnr, persons = cl.makepop(\"current\",\n",
    "                                                                  17900000)\n",
    "# set day 0 \n",
    "day0date = datetime.date(2020, 3, 8)\n",
    "r_change = {}\n",
    "# Intial r0\n",
    "r_change[-1] = 3.3 * contacts/np.mean(contacts)\n",
    "# First change point (8.3.2020)\n",
    "r_change[0] = 1.84 * contacts/np.mean(contacts)\n",
    "# second change point (16.3.2020)\n",
    "r_change[6] = 1.04 * contacts/np.mean(contacts)\n",
    "# third change point (23.3.2020)\n",
    "r_change[13] = 0.9 * contacts/np.mean(contacts)\n",
    "# fourth change point (20.4.2020)\n",
    "r_change[42] = 1.1 * contacts/np.mean(contacts)\n",
    "\n",
    "state, statesum, infections, day0, rnow, args, gr = cl.sim(\n",
    "        age, drate, nday=150, prob_icu=0.01125,\n",
    "        day0cumrep=1000,\n",
    "        mean_days_to_icu=7,mean_duration_icu=10,\n",
    "        mean_serial=7.0, std_serial=3.0, immunt0=0.0, ifr=0.004,\n",
    "        long_term_death=False,hnr=None, com_attack_rate=0,\n",
    "        r_change=r_change, simname=\"Test\", datadir=\"/mnt/wd1/nrw_corona/\",\n",
    "        realized=None, rep_delay=8.7, alpha=0.125, day0date=day0date)"
   ]
  },
  {
   "cell_type": "code",
   "execution_count": 3,
   "metadata": {},
   "outputs": [
    {
     "data": {
      "text/plain": [
       "'/mnt/wd1/nrw_corona/Test.html'"
      ]
     },
     "execution_count": 3,
     "metadata": {},
     "output_type": "execute_result"
    }
   ],
   "source": [
    "fig = make_subplots(rows=4, cols=1)\n",
    "\n",
    "fig.add_trace(go.Scatter(x=gr[\"Datum\"], y=gr[\"Erwartete Neu-Meldefälle\"],\n",
    "                        mode=\"lines\",\n",
    "            name=\"Erwartete Neu-Meldefälle\"),\n",
    "            row=1, col=1)\n",
    "\n",
    "fig.add_trace(go.Scatter(x=gr[\"Datum\"], y=gr[\"Erwartete Gesamt-Meldefälle\"],\n",
    "                        name=\"Erwartete Gesamt-Meldefälle\",\n",
    "                        mode=\"lines\"), row=2, col=1)\n",
    "\n",
    "fig.add_trace(go.Scatter(x=gr[\"Datum\"], y=gr[\"Erwartete Tote\"],\n",
    "                        name=\"Erwartete Tote\",\n",
    "                        mode=\"lines\"), row=3, col=1)\n",
    "\n",
    "fig.add_trace(go.Scatter(x=gr[\"Datum\"], y=gr[\"ICU\"],\n",
    "                        name=\"Erwartete Intensiv\",\n",
    "                        mode=\"lines\"), row=4, col=1)\n",
    "\n",
    "fig.update_layout(legend_orientation=\"h\", title=args[\"simname\"])\n",
    "plot(fig, filename=os.path.join(args[\"datadir\"], args[\"simname\"]+\".html\"))"
   ]
  },
  {
   "cell_type": "code",
   "execution_count": null,
   "metadata": {},
   "outputs": [],
   "source": []
  }
 ],
 "metadata": {
  "kernelspec": {
   "display_name": "Python 3",
   "language": "python",
   "name": "python3"
  },
  "language_info": {
   "codemirror_mode": {
    "name": "ipython",
    "version": 3
   },
   "file_extension": ".py",
   "mimetype": "text/x-python",
   "name": "python",
   "nbconvert_exporter": "python",
   "pygments_lexer": "ipython3",
   "version": "3.7.6"
  }
 },
 "nbformat": 4,
 "nbformat_minor": 4
}
