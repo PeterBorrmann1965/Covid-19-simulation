{
 "cells": [
  {
   "cell_type": "code",
   "execution_count": 1,
   "metadata": {},
   "outputs": [
    {
     "name": "stderr",
     "output_type": "stream",
     "text": [
      "/opt/conda/lib/python3.7/site-packages/ipykernel_launcher.py:2: DeprecationWarning: `Tracer` is deprecated since version 5.1, directly use `IPython.core.debugger.Pdb.set_trace()`\n",
      "  \n"
     ]
    }
   ],
   "source": [
    "import pandas\n",
    "from IPython.core.debugger import Tracer; debug_here = Tracer()"
   ]
  },
  {
   "cell_type": "code",
   "execution_count": 2,
   "metadata": {},
   "outputs": [],
   "source": [
    "import numpy as np\n",
    "import time\n",
    "import coronalib as cl"
   ]
  },
  {
   "cell_type": "code",
   "execution_count": 3,
   "metadata": {},
   "outputs": [],
   "source": [
    "\"\"\"Simulation of infections for different scenarios.\"\"\"\n",
    "import numpy as np\n",
    "import time\n",
    "import coronalib as cl\n",
    "# Einlesen und erstellen der Population\n",
    "age, agegroup, gender, family, contacts, dr = cl.readpop(\n",
    "    \"../data/population_new.csv\", n=10000)"
   ]
  },
  {
   "cell_type": "code",
   "execution_count": 9,
   "metadata": {},
   "outputs": [
    {
     "name": "stdout",
     "output_type": "stream",
     "text": [
      "Mean prob icu:0.005\n",
      "r0 = 3.00 rlock = 3.00 ICU Tag0 = 65 day0 =-1\n",
      "Sim time: 0.709327220916748 Analyse time: 0.516791820526123\n",
      "Mean prob icu:0.005\n",
      "r0 = 3.00 rlock = 2.10 ICU Tag0 = 65 day0 =-1\n",
      "Sim time: 0.6930484771728516 Analyse time: 0.5146715641021729\n",
      "Mean prob icu:0.005\n",
      "r0 = 3.00 rlock = 1.50 ICU Tag0 = 65 day0 =-1\n",
      "Sim time: 0.6878561973571777 Analyse time: 0.44540905952453613\n"
     ]
    }
   ],
   "source": [
    "results = []\n",
    "#for r0 in [2.0, 2.5, 3.0, 3.5, 5.0]:\n",
    "\n",
    "for r0 in [3.0]:\n",
    "    for f in [1.0, 0.7, 0.5]:\n",
    "        r = contacts * r0\n",
    "        r = r * r0 / np.mean(r)\n",
    "        cutr = r * f\n",
    "        infstart = 65\n",
    "\n",
    "        meanr = np.mean(r)\n",
    "        meancut = np.mean(cutr)\n",
    "        name = \"r0 = \" + str(\"{:2.2f}\".format(meanr)) +\\\n",
    "            \" rlock = \"+str(\"{:2.2f}\".format(meancut)) +\\\n",
    "            \" ICU Tag0 = \" + str(infstart)\n",
    "\n",
    "        t1 = time.time()\n",
    "        state, statesum, infections, day0, rnow = cl.sim(\n",
    "            age, gender, dr, r, nday=365, cutr=cutr, burnin=infstart,\n",
    "            cutdown=400, prob_icu=0.005, mean_days_to_icu=12,\n",
    "            std_duration_icu=3, mean_duration_icu=10, std_days_to_icu=3,\n",
    "            mean_serial=7, std_serial=3, immunt0=0.0, icu_fatality=0.5)\n",
    "\n",
    "        t2 = time.time()\n",
    "        print(name + \" day0 =\" + str(day0))\n",
    "        results, groupresults = cl.analysestate(state, title=name, day0=day0)\n",
    "        t3 = time.time()\n",
    "        print(\"Sim time: \" + str(t2-t1) + \" Analyse time: \" + str(t3-t2))"
   ]
  },
  {
   "cell_type": "code",
   "execution_count": 5,
   "metadata": {},
   "outputs": [],
   "source": [
    "r0 = 3.0\n",
    "f = 1\n",
    "r = contacts * r0\n",
    "r = r * r0 / np.mean(r)\n",
    "cutr = r * f\n",
    "infstart = 65\n",
    "\n",
    "meanr = np.mean(r)\n",
    "meancut = np.mean(cutr)\n",
    "name = \"r0 = \" + str(\"{:2.2f}\".format(meanr)) +\\\n",
    "    \" rlock = \"+str(\"{:2.2f}\".format(meancut)) +\\\n",
    "    \" ICU Tag0 = \" + str(infstart)"
   ]
  },
  {
   "cell_type": "code",
   "execution_count": 6,
   "metadata": {},
   "outputs": [
    {
     "name": "stdout",
     "output_type": "stream",
     "text": [
      "Mean prob icu:0.005\n"
     ]
    }
   ],
   "source": [
    "t1 = time.time()\n",
    "state, statesum, infections, day0, rnow = cl.sim(\n",
    "    age, gender, dr, r, nday=365, cutr=cutr, burnin=infstart,\n",
    "    cutdown=400, prob_icu=0.005, mean_days_to_icu=12,\n",
    "    std_duration_icu=3, mean_duration_icu=10, std_days_to_icu=3,\n",
    "    mean_serial=7, std_serial=3, immunt0=0.0, icu_fatality=0.5)"
   ]
  },
  {
   "cell_type": "code",
   "execution_count": 7,
   "metadata": {},
   "outputs": [
    {
     "name": "stdout",
     "output_type": "stream",
     "text": [
      "r0 = 3.00 rlock = 3.00 ICU Tag0 = 65 day0 =-1\n"
     ]
    }
   ],
   "source": [
    "t2 = time.time()\n",
    "print(name + \" day0 =\" + str(day0))"
   ]
  },
  {
   "cell_type": "code",
   "execution_count": 8,
   "metadata": {},
   "outputs": [
    {
     "name": "stdout",
     "output_type": "stream",
     "text": [
      "Sim time: 3.2537078857421875 Analyse time: 3.401831865310669\n"
     ]
    }
   ],
   "source": [
    "results, groupresults = cl.analysestate(state, title=name, day0=day0)\n",
    "t3 = time.time()\n",
    "print(\"Sim time: \" + str(t2-t1) + \" Analyse time: \" + str(t3-t2))"
   ]
  },
  {
   "cell_type": "code",
   "execution_count": null,
   "metadata": {},
   "outputs": [],
   "source": []
  },
  {
   "cell_type": "code",
   "execution_count": null,
   "metadata": {},
   "outputs": [],
   "source": [
    "# "
   ]
  }
 ],
 "metadata": {
  "kernelspec": {
   "display_name": "Python 3",
   "language": "python",
   "name": "python3"
  },
  "language_info": {
   "codemirror_mode": {
    "name": "ipython",
    "version": 3
   },
   "file_extension": ".py",
   "mimetype": "text/x-python",
   "name": "python",
   "nbconvert_exporter": "python",
   "pygments_lexer": "ipython3",
   "version": "3.7.6"
  }
 },
 "nbformat": 4,
 "nbformat_minor": 2
}
